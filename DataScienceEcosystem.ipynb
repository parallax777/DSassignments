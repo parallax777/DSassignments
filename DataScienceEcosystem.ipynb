{
 "cells": [
  {
   "cell_type": "markdown",
   "id": "009756ba-61a6-440e-b6a0-8e24c359c300",
   "metadata": {},
   "source": [
    "# Data Science Tools and Ecosystem"
   ]
  },
  {
   "cell_type": "markdown",
   "id": "279b4bf3-5d82-4b31-925d-cf4b8fb10e93",
   "metadata": {},
   "source": [
    "In this notebook, Data Science Tools and Ecosystem are summarized."
   ]
  },
  {
   "cell_type": "markdown",
   "id": "6ebc9758-746d-4417-810a-207c86314831",
   "metadata": {},
   "source": [
    "Some of the popular languages that Data Scientists use are:\n",
    "1. Python\n",
    "2. R-Language\n",
    "3. SQL"
   ]
  },
  {
   "cell_type": "markdown",
   "id": "c8b5b634-030c-4ea9-aade-b38fb05b04dc",
   "metadata": {},
   "source": [
    "Some of the commonly used libraries used by Data Scientists include:\n",
    "1. TensorFlow\n",
    "2. Pandas\n",
    "3. PyTorch"
   ]
  },
  {
   "cell_type": "markdown",
   "id": "dc15954c-2bb4-473d-9b0c-a35cabc5b3c1",
   "metadata": {},
   "source": [
    "|Data Science Tools|\n",
    "|------|\n",
    "|Apache Spark|\n",
    "|Apache Hadoop|\n",
    "|TensorFlow|"
   ]
  },
  {
   "cell_type": "markdown",
   "id": "eabb353d-25cb-4517-926f-21b10b5792ae",
   "metadata": {},
   "source": [
    "### Below are a few examples of evaluating arithmetic expressions in Python"
   ]
  },
  {
   "cell_type": "code",
   "execution_count": 3,
   "id": "4918245e-5476-4912-b158-7be8eeaaf00b",
   "metadata": {
    "tags": []
   },
   "outputs": [
    {
     "data": {
      "text/plain": [
       "17"
      ]
     },
     "execution_count": 3,
     "metadata": {},
     "output_type": "execute_result"
    }
   ],
   "source": [
    "#This a simple arithmetic expression to mutiply then add integers\n",
    "(3*4)+5"
   ]
  },
  {
   "cell_type": "code",
   "execution_count": 4,
   "id": "5fd5edbd-76a8-44b6-828d-ea1894d2c5e4",
   "metadata": {
    "tags": []
   },
   "outputs": [
    {
     "name": "stdout",
     "output_type": "stream",
     "text": [
      "200 minutes into hours is 3.3333333333333335\n"
     ]
    }
   ],
   "source": [
    "# This will convert 200 minutes to hours by diving by 60\n",
    "a=200\n",
    "b=60\n",
    "c=a/b\n",
    "print (\"200 minutes into hours is\",c)"
   ]
  },
  {
   "cell_type": "markdown",
   "id": "3e05faba-e3d9-4d45-a20d-f6c12bf81af2",
   "metadata": {},
   "source": [
    "**Objectives:**\n",
    "- Data Science Tools and Ecosystem\n",
    "- Languages used by Data Scientists\n",
    "- Libraries used by Data Scientists\n",
    "- Data Science Tools\n",
    "- Arithmetic Expressions in Python"
   ]
  },
  {
   "cell_type": "markdown",
   "id": "c36b1963-ea73-4a71-a7de-613d8c6a1b4f",
   "metadata": {},
   "source": [
    "## Author\n",
    "Aayush Khatri"
   ]
  },
  {
   "cell_type": "code",
   "execution_count": null,
   "id": "0febbf45-ce44-487d-a732-f9ac0657284b",
   "metadata": {},
   "outputs": [],
   "source": []
  }
 ],
 "metadata": {
  "kernelspec": {
   "display_name": "Python",
   "language": "python",
   "name": "conda-env-python-py"
  },
  "language_info": {
   "codemirror_mode": {
    "name": "ipython",
    "version": 3
   },
   "file_extension": ".py",
   "mimetype": "text/x-python",
   "name": "python",
   "nbconvert_exporter": "python",
   "pygments_lexer": "ipython3",
   "version": "3.7.12"
  }
 },
 "nbformat": 4,
 "nbformat_minor": 5
}
